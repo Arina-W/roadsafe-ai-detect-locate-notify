{
 "cells": [
  {
   "cell_type": "code",
   "execution_count": null,
   "id": "54a66ae3",
   "metadata": {},
   "outputs": [],
   "source": [
    "!nvidia-smi"
   ]
  },
  {
   "cell_type": "code",
   "execution_count": null,
   "id": "c62bea76",
   "metadata": {},
   "outputs": [],
   "source": [
    "!pip -q install -U ultralytics roboflow albumentations opencv-python tqdm"
   ]
  },
  {
   "cell_type": "code",
   "execution_count": null,
   "id": "640cb8cd",
   "metadata": {},
   "outputs": [],
   "source": [
    "from roboflow import Roboflow\n",
    "from pathlib import Path\n",
    "import yaml, os\n",
    "\n",
    "# 🔧 Fill these from your project URL / settings\n",
    "ROBOFLOW_API_KEY = \"\"\n",
    "WORKSPACE = \"\"\n",
    "PROJECT   = \"\"\n",
    "VERSION   = 1       # None = auto-pick latest; or set an int like 5\n",
    "EXPORT_FMT = \"yolo11\"\n",
    "\n",
    "rf = Roboflow(api_key=ROBOFLOW_API_KEY)\n",
    "proj = rf.workspace(WORKSPACE).project(PROJECT)\n",
    "\n",
    "if VERSION is None:\n",
    "    vers = proj.versions()\n",
    "    if not vers:\n",
    "        raise RuntimeError(\"No versions found in this project. Generate a version in Roboflow first.\")\n",
    "    VERSION = getattr(vers[-1], \"version\", getattr(vers[-1], \"version_number\", None))\n",
    "    print(\"Using latest version:\", VERSION)\n",
    "\n",
    "dataset = proj.version(VERSION).download(EXPORT_FMT)\n",
    "INPUT_PATH = Path(dataset.location)\n",
    "print(\"Downloaded to:\", INPUT_PATH)\n",
    "print(\"Contents:\", [p.name for p in INPUT_PATH.iterdir()])\n",
    "\n",
    "# Ensure YOLO's expected key name 'val' exists (some exports use 'valid')\n",
    "yaml_path = INPUT_PATH/\"data.yaml\"\n",
    "cfg = yaml.safe_load(open(yaml_path))\n",
    "if \"valid\" in cfg and \"val\" not in cfg:\n",
    "    cfg[\"val\"] = cfg[\"valid\"]\n",
    "    yaml.safe_dump(cfg, open(yaml_path, \"w\"), sort_keys=False)\n",
    "print(\"data.yaml ->\\n\", open(yaml_path).read())"
   ]
  },
  {
   "cell_type": "code",
   "execution_count": null,
   "id": "f96b8cbf",
   "metadata": {},
   "outputs": [],
   "source": [
    "import torch, os\n",
    "from pathlib import Path\n",
    "from ultralytics import YOLO\n",
    "\n",
    "# 0) Mount Drive once per session\n",
    "from google.colab import drive\n",
    "drive.mount('/content/drive')\n",
    "\n",
    "# (Optional) disable Weights & Biases auto-logging\n",
    "os.environ[\"WANDB_DISABLED\"] = \"true\"\n",
    "\n",
    "print(\"CUDA available:\", torch.cuda.is_available())\n",
    "\n",
    "# 1) Choose a folder in Drive\n",
    "OUTPUT_PATH = \"/content/drive/MyDrive/runs_roboflow\"   # where to save runs\n",
    "INPUT_PATH = Path(\"/content/drive/MyDrive/your_dataset_folder\")  # <-- set this!\n",
    "DATA_YAML = INPUT_PATH / \"data.yaml\"\n",
    "\n",
    "# 2) Train to that folder: Ultralytics will create OUTPUT_PATH/name/...\n",
    "model = YOLO(\"yolo11m.pt\")  # or your last.pt\n",
    "\n",
    "results = model.train(\n",
    "    data=str(INPUT_PATH / \"data.yaml\"),\n",
    "    epochs=100,\n",
    "    patience=20,      # stop early if no val improvement for 20 epochs\n",
    "    project=OUTPUT_PATH,          # <-- write directly to Drive\n",
    "    imgsz=640,\n",
    "    save=True,        # always save weights\n",
    "    save_period=5,    # keep a checkpoint every 5 epochs\n",
    "    close_mosaic=10,  # turn off mosaic in final 10 epochs\n",
    "    name=\"v1_yolo11m\"\n",
    ")"
   ]
  },
  {
   "cell_type": "code",
   "execution_count": null,
   "id": "48331515",
   "metadata": {},
   "outputs": [],
   "source": []
  },
  {
   "cell_type": "code",
   "execution_count": null,
   "id": "24a219bd",
   "metadata": {},
   "outputs": [],
   "source": []
  }
 ],
 "metadata": {
  "language_info": {
   "name": "python"
  }
 },
 "nbformat": 4,
 "nbformat_minor": 5
}

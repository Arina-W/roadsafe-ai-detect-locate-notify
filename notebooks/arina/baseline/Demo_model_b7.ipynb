{
  "nbformat": 4,
  "nbformat_minor": 0,
  "metadata": {
    "colab": {
      "provenance": [],
      "machine_shape": "hm",
      "gpuType": "A100"
    },
    "kernelspec": {
      "name": "python3",
      "display_name": "Python 3"
    },
    "language_info": {
      "name": "python"
    },
    "accelerator": "GPU"
  },
  "cells": [
    {
      "cell_type": "code",
      "source": [
        "from google.colab import drive\n",
        "drive.mount('/content/drive')"
      ],
      "metadata": {
        "colab": {
          "base_uri": "https://localhost:8080/"
        },
        "id": "Nmt-L-fcdpsw",
        "outputId": "37f7e3ad-530e-401b-e767-639cb62deb37"
      },
      "execution_count": 1,
      "outputs": [
        {
          "output_type": "stream",
          "name": "stdout",
          "text": [
            "Drive already mounted at /content/drive; to attempt to forcibly remount, call drive.mount(\"/content/drive\", force_remount=True).\n"
          ]
        }
      ]
    },
    {
      "cell_type": "code",
      "source": [
        "!pip install torchsampler"
      ],
      "metadata": {
        "colab": {
          "base_uri": "https://localhost:8080/"
        },
        "id": "m3ht-u-xeKGs",
        "outputId": "2152da29-c7d7-4dee-f67a-6e791b4ec516"
      },
      "execution_count": 2,
      "outputs": [
        {
          "output_type": "stream",
          "name": "stdout",
          "text": [
            "Collecting torchsampler\n",
            "  Downloading torchsampler-0.1.2-py3-none-any.whl.metadata (4.7 kB)\n",
            "Requirement already satisfied: torch>=1.3 in /usr/local/lib/python3.12/dist-packages (from torchsampler) (2.8.0+cu126)\n",
            "Requirement already satisfied: torchvision>=0.5 in /usr/local/lib/python3.12/dist-packages (from torchsampler) (0.23.0+cu126)\n",
            "Requirement already satisfied: pandas in /usr/local/lib/python3.12/dist-packages (from torchsampler) (2.2.2)\n",
            "Requirement already satisfied: filelock in /usr/local/lib/python3.12/dist-packages (from torch>=1.3->torchsampler) (3.19.1)\n",
            "Requirement already satisfied: typing-extensions>=4.10.0 in /usr/local/lib/python3.12/dist-packages (from torch>=1.3->torchsampler) (4.15.0)\n",
            "Requirement already satisfied: setuptools in /usr/local/lib/python3.12/dist-packages (from torch>=1.3->torchsampler) (75.2.0)\n",
            "Requirement already satisfied: sympy>=1.13.3 in /usr/local/lib/python3.12/dist-packages (from torch>=1.3->torchsampler) (1.13.3)\n",
            "Requirement already satisfied: networkx in /usr/local/lib/python3.12/dist-packages (from torch>=1.3->torchsampler) (3.5)\n",
            "Requirement already satisfied: jinja2 in /usr/local/lib/python3.12/dist-packages (from torch>=1.3->torchsampler) (3.1.6)\n",
            "Requirement already satisfied: fsspec in /usr/local/lib/python3.12/dist-packages (from torch>=1.3->torchsampler) (2025.3.0)\n",
            "Requirement already satisfied: nvidia-cuda-nvrtc-cu12==12.6.77 in /usr/local/lib/python3.12/dist-packages (from torch>=1.3->torchsampler) (12.6.77)\n",
            "Requirement already satisfied: nvidia-cuda-runtime-cu12==12.6.77 in /usr/local/lib/python3.12/dist-packages (from torch>=1.3->torchsampler) (12.6.77)\n",
            "Requirement already satisfied: nvidia-cuda-cupti-cu12==12.6.80 in /usr/local/lib/python3.12/dist-packages (from torch>=1.3->torchsampler) (12.6.80)\n",
            "Requirement already satisfied: nvidia-cudnn-cu12==9.10.2.21 in /usr/local/lib/python3.12/dist-packages (from torch>=1.3->torchsampler) (9.10.2.21)\n",
            "Requirement already satisfied: nvidia-cublas-cu12==12.6.4.1 in /usr/local/lib/python3.12/dist-packages (from torch>=1.3->torchsampler) (12.6.4.1)\n",
            "Requirement already satisfied: nvidia-cufft-cu12==11.3.0.4 in /usr/local/lib/python3.12/dist-packages (from torch>=1.3->torchsampler) (11.3.0.4)\n",
            "Requirement already satisfied: nvidia-curand-cu12==10.3.7.77 in /usr/local/lib/python3.12/dist-packages (from torch>=1.3->torchsampler) (10.3.7.77)\n",
            "Requirement already satisfied: nvidia-cusolver-cu12==11.7.1.2 in /usr/local/lib/python3.12/dist-packages (from torch>=1.3->torchsampler) (11.7.1.2)\n",
            "Requirement already satisfied: nvidia-cusparse-cu12==12.5.4.2 in /usr/local/lib/python3.12/dist-packages (from torch>=1.3->torchsampler) (12.5.4.2)\n",
            "Requirement already satisfied: nvidia-cusparselt-cu12==0.7.1 in /usr/local/lib/python3.12/dist-packages (from torch>=1.3->torchsampler) (0.7.1)\n",
            "Requirement already satisfied: nvidia-nccl-cu12==2.27.3 in /usr/local/lib/python3.12/dist-packages (from torch>=1.3->torchsampler) (2.27.3)\n",
            "Requirement already satisfied: nvidia-nvtx-cu12==12.6.77 in /usr/local/lib/python3.12/dist-packages (from torch>=1.3->torchsampler) (12.6.77)\n",
            "Requirement already satisfied: nvidia-nvjitlink-cu12==12.6.85 in /usr/local/lib/python3.12/dist-packages (from torch>=1.3->torchsampler) (12.6.85)\n",
            "Requirement already satisfied: nvidia-cufile-cu12==1.11.1.6 in /usr/local/lib/python3.12/dist-packages (from torch>=1.3->torchsampler) (1.11.1.6)\n",
            "Requirement already satisfied: triton==3.4.0 in /usr/local/lib/python3.12/dist-packages (from torch>=1.3->torchsampler) (3.4.0)\n",
            "Requirement already satisfied: numpy in /usr/local/lib/python3.12/dist-packages (from torchvision>=0.5->torchsampler) (2.0.2)\n",
            "Requirement already satisfied: pillow!=8.3.*,>=5.3.0 in /usr/local/lib/python3.12/dist-packages (from torchvision>=0.5->torchsampler) (11.3.0)\n",
            "Requirement already satisfied: python-dateutil>=2.8.2 in /usr/local/lib/python3.12/dist-packages (from pandas->torchsampler) (2.9.0.post0)\n",
            "Requirement already satisfied: pytz>=2020.1 in /usr/local/lib/python3.12/dist-packages (from pandas->torchsampler) (2025.2)\n",
            "Requirement already satisfied: tzdata>=2022.7 in /usr/local/lib/python3.12/dist-packages (from pandas->torchsampler) (2025.2)\n",
            "Requirement already satisfied: six>=1.5 in /usr/local/lib/python3.12/dist-packages (from python-dateutil>=2.8.2->pandas->torchsampler) (1.17.0)\n",
            "Requirement already satisfied: mpmath<1.4,>=1.1.0 in /usr/local/lib/python3.12/dist-packages (from sympy>=1.13.3->torch>=1.3->torchsampler) (1.3.0)\n",
            "Requirement already satisfied: MarkupSafe>=2.0 in /usr/local/lib/python3.12/dist-packages (from jinja2->torch>=1.3->torchsampler) (3.0.2)\n",
            "Downloading torchsampler-0.1.2-py3-none-any.whl (5.6 kB)\n",
            "Installing collected packages: torchsampler\n",
            "Successfully installed torchsampler-0.1.2\n"
          ]
        }
      ]
    },
    {
      "cell_type": "code",
      "source": [
        "# train_b7_multitask_full.py  (with confusion matrices at the end)\n",
        "import os, random, pandas as pd, torch, torch.nn as nn\n",
        "from PIL import Image\n",
        "from torch.utils.data import Dataset, DataLoader, Subset\n",
        "from torchvision import transforms\n",
        "from torchvision.models import efficientnet_b7, EfficientNet_B7_Weights\n",
        "from torch.optim.lr_scheduler import ReduceLROnPlateau\n",
        "from torchsampler import ImbalancedDatasetSampler  # pip install torchsampler"
      ],
      "metadata": {
        "id": "8lmmlH3Wc0f3"
      },
      "execution_count": 3,
      "outputs": []
    },
    {
      "cell_type": "code",
      "source": [
        "# ======== Config ========\n",
        "CSV_PATH   = \"/content/drive/MyDrive/data/streetSurfaceVis_v1_0_2.csv\"\n",
        "IMG_DIR    = \"/content/drive/MyDrive/data/s_1024\"\n",
        "BATCH_SIZE = 8\n",
        "EPOCHS     = 40\n",
        "LR         = 3e-4\n",
        "PATIENCE   = 10\n",
        "NUM_MATERIALS, NUM_QUALITIES = 5, 5\n",
        "SEED = 42"
      ],
      "metadata": {
        "id": "72a-WmIIc2F7"
      },
      "execution_count": 4,
      "outputs": []
    },
    {
      "cell_type": "code",
      "metadata": {
        "colab": {
          "base_uri": "https://localhost:8080/"
        },
        "id": "8b9d12be",
        "outputId": "5eb3aea9-31c8-4155-ca6d-c75a23f9a84a"
      },
      "source": [
        "# ======== Column names ========\n",
        "\n",
        "import pandas as pd\n",
        "\n",
        "# Load the CSV file to inspect column names\n",
        "df_inspect = pd.read_csv(CSV_PATH)\n",
        "print(df_inspect.columns)"
      ],
      "execution_count": 5,
      "outputs": [
        {
          "output_type": "stream",
          "name": "stdout",
          "text": [
            "Index(['mapillary_image_id', 'path', 'filepath', 'user_id', 'user_name',\n",
            "       'captured_at', 'longitude', 'latitude', 'train', 'type',\n",
            "       'surface_quality'],\n",
            "      dtype='object')\n"
          ]
        }
      ]
    },
    {
      "cell_type": "code",
      "source": [
        "# ======== Data exploration analyis ========\n",
        "\n",
        "import matplotlib.pyplot as plt\n",
        "import seaborn as sns\n",
        "import pandas as pd\n",
        "\n",
        "# Load the CSV file\n",
        "df = pd.read_csv(CSV_PATH)\n",
        "\n",
        "# Count occurrences for 'type' (material)\n",
        "material_counts = df['type'].value_counts()\n",
        "\n",
        "# Count occurrences for 'surface_quality'\n",
        "quality_counts = df['surface_quality'].value_counts()\n",
        "\n",
        "# Create subplots for side-by-side display\n",
        "fig, axes = plt.subplots(1, 2, figsize=(20, 6)) # 1 row, 2 columns\n",
        "\n",
        "# Create bar plot for material classes on the first subplot\n",
        "sns.barplot(x=material_counts.index, y=material_counts.values, ax=axes[0])\n",
        "axes[0].set_title('Distribution of Material Classes')\n",
        "axes[0].set_xlabel('Material Type')\n",
        "axes[0].set_ylabel('Number of Samples')\n",
        "axes[0].tick_params(axis='x', rotation=45) # Removed ha='right'\n",
        "\n",
        "# Create bar plot for quality classes on the second subplot\n",
        "sns.barplot(x=quality_counts.index, y=quality_counts.values, ax=axes[1])\n",
        "axes[1].set_title('Distribution of Surface Quality Classes')\n",
        "axes[1].set_xlabel('Surface Quality')\n",
        "axes[1].set_ylabel('Number of Samples')\n",
        "axes[1].tick_params(axis='x', rotation=45) # Removed ha='right'\n",
        "\n",
        "plt.tight_layout()\n",
        "plt.show()"
      ],
      "metadata": {
        "colab": {
          "base_uri": "https://localhost:8080/",
          "height": 460
        },
        "id": "x_COa3yk1hic",
        "outputId": "245d9ffe-a893-4b57-bbd2-7cdc3bd5641c"
      },
      "execution_count": 6,
      "outputs": [
        {
          "output_type": "display_data",
          "data": {
            "text/plain": [
              "<Figure size 2000x600 with 2 Axes>"
            ],
            "image/png": "[encoded data removed]"
          },
          "metadata": {}
        }
      ]
    },
    {
      "cell_type": "code",
      "source": [
        "# ======== Repro ========\n",
        "random.seed(SEED); torch.manual_seed(SEED)\n",
        "\n",
        "# ======== Label maps ========\n",
        "master_class = {\"asphalt\":0,\"concrete\":1,\"paving_stones\":2,\"unpaved\":3,\"sett\":4}\n",
        "sub_class    = {\"excellent\":0,\"good\":1,\"intermediate\":2,\"bad\":3,\"very_bad\":4}\n",
        "material_names = [k for k,_ in sorted(master_class.items(), key=lambda x:x[1])]\n",
        "quality_names  = [k for k,_ in sorted(sub_class.items(),   key=lambda x:x[1])]\n",
        "\n",
        "# ======== Device & speed ========\n",
        "device = torch.device(\"cuda\" if torch.cuda.is_available() else \"cpu\")\n",
        "torch.backends.cudnn.benchmark = True\n",
        "if torch.cuda.is_available():\n",
        "    torch.backends.cuda.matmul.allow_tf32 = True"
      ],
      "metadata": {
        "id": "ZpWI0gYJc2IQ"
      },
      "execution_count": 7,
      "outputs": []
    },
    {
      "cell_type": "code",
      "source": [
        "# ======== Transforms ========\n",
        "tfms = transforms.Compose([\n",
        "    transforms.Resize((600, 600)), # Resize to 600x600 because EfficientNet b7\n",
        "    transforms.ToTensor(),\n",
        "    transforms.Normalize([0.485,0.456,0.406],[0.229,0.224,0.225]),\n",
        "])"
      ],
      "metadata": {
        "id": "ADZ4YxLJc2KE"
      },
      "execution_count": 8,
      "outputs": []
    },
    {
      "cell_type": "code",
      "source": [
        "# ======== Dataset ========\n",
        "class StreetDS(Dataset):\n",
        "    def __init__(self, csv_path, img_dir, tfm=tfms):\n",
        "        df = pd.read_csv(csv_path)\n",
        "        self.paths = [os.path.join(img_dir, f) for f in df[\"filepath\"]]\n",
        "        self.mat   = [master_class[m] for m in df[\"type\"]]\n",
        "        self.qual  = [sub_class[q]    for q in df[\"surface_quality\"]]\n",
        "        self.tfm = tfm\n",
        "    def __len__(self): return len(self.paths)\n",
        "    def __getitem__(self, i):\n",
        "        x = self.tfm(Image.open(self.paths[i]).convert(\"RGB\"))\n",
        "        return x, (torch.tensor(self.mat[i]), torch.tensor(self.qual[i]))"
      ],
      "metadata": {
        "id": "kpHJBpSEc-PB"
      },
      "execution_count": 9,
      "outputs": []
    },
    {
      "cell_type": "code",
      "source": [
        "# ======== Split & Loaders (imbalanced sampler on train) ========\n",
        "ds = StreetDS(CSV_PATH, IMG_DIR)\n",
        "idx = torch.randperm(len(ds)); n_tr = int(0.8*len(ds))\n",
        "tr_ds, va_ds = Subset(ds, idx[:n_tr]), Subset(ds, idx[n_tr:])\n",
        "\n",
        "train_sampler = ImbalancedDatasetSampler(\n",
        "    tr_ds, callback_get_label=lambda subset: [ds.mat[i] for i in subset.indices]\n",
        ")\n",
        "# For joint balance (material, quality), use:\n",
        "# train_sampler = ImbalancedDatasetSampler(\n",
        "#     tr_ds, callback_get_label=lambda subset: [(ds.mat[i], ds.qual[i]) for i in subset.indices]\n",
        "# )\n",
        "\n",
        "\n",
        "train_dl = DataLoader(tr_ds, batch_size=BATCH_SIZE, sampler=train_sampler,\n",
        "                      num_workers=0, pin_memory=True, persistent_workers=False)\n",
        "val_dl   = DataLoader(va_ds, batch_size=BATCH_SIZE, shuffle=False,\n",
        "                      num_workers=0, pin_memory=True, persistent_workers=False)"
      ],
      "metadata": {
        "id": "xlEmbWAkdCIP"
      },
      "execution_count": 15,
      "outputs": []
    },
    {
      "cell_type": "code",
      "source": [
        "# ======== Model ========\n",
        "class MultiHeadEffNetB7(nn.Module):\n",
        "    def __init__(self):\n",
        "        super().__init__()\n",
        "        base = efficientnet_b7(weights=EfficientNet_B7_Weights.IMAGENET1K_V1)\n",
        "        self.features = nn.Sequential(*list(base.children())[:-1])\n",
        "        f = base.classifier[1].in_features  # 2560\n",
        "        self.mat, self.qual = nn.Linear(f, NUM_MATERIALS), nn.Linear(f, NUM_QUALITIES)\n",
        "    def forward(self, x):\n",
        "        x = self.features(x).flatten(1)\n",
        "        return self.mat(x), self.qual(x)\n",
        "\n",
        "model = MultiHeadEffNetB7().to(device)\n",
        "try: model = torch.compile(model)\n",
        "except: pass\n",
        "\n",
        "opt = torch.optim.AdamW(model.parameters(), lr=LR)\n",
        "lossfn = nn.CrossEntropyLoss()\n",
        "scheduler = ReduceLROnPlateau(opt, mode=\"max\", factor=0.5, patience=2)\n",
        "\n",
        "# AMP\n",
        "try:\n",
        "    # Try importing from the newer torch.amp first as recommended by the warning\n",
        "    from torch.amp import autocast, GradScaler\n",
        "    scaler = GradScaler()\n",
        "except ImportError:\n",
        "    # Fallback to the older torch.cuda.amp if torch.amp is not available\n",
        "    try:\n",
        "        from torch.cuda.amp import autocast, GradScaler\n",
        "        scaler = GradScaler()\n",
        "    except Exception as e:\n",
        "         # Fallback if neither works, maybe for CPU or very old versions\n",
        "         print(f\"AMP not fully available: {e}, proceeding without it.\")\n",
        "         # Define dummy autocast and GradScaler if AMP is not available\n",
        "         class autocast:\n",
        "             def __enter__(self): pass\n",
        "             def __exit__(self, exc_type, exc_val, exc_tb): pass\n",
        "         class GradScaler:\n",
        "             def scale(self, loss): return loss\n",
        "             def step(self, optimizer): optimizer.step()\n",
        "             def update(self): pass\n",
        "         scaler = GradScaler()"
      ],
      "metadata": {
        "id": "RXZWc5Ahc-Rl",
        "colab": {
          "base_uri": "https://localhost:8080/"
        },
        "outputId": "ef0c5ecd-9afd-4986-9b3a-fdca5680698e"
      },
      "execution_count": 11,
      "outputs": [
        {
          "output_type": "stream",
          "name": "stdout",
          "text": [
            "Downloading: \"https://download.pytorch.org/models/efficientnet_b7_lukemelas-c5b4e57e.pth\" to /root/.cache/torch/hub/checkpoints/efficientnet_b7_lukemelas-c5b4e57e.pth\n"
          ]
        },
        {
          "output_type": "stream",
          "name": "stderr",
          "text": [
            "100%|██████████| 255M/255M [00:01<00:00, 225MB/s]\n"
          ]
        }
      ]
    },
    {
      "cell_type": "code",
      "execution_count": 12,
      "metadata": {
        "colab": {
          "base_uri": "https://localhost:8080/",
          "height": 426
        },
        "id": "2_DfbKh5bcct",
        "outputId": "549517d5-5335-44ba-9b4f-0be6b1a12d66"
      },
      "outputs": [
        {
          "output_type": "stream",
          "name": "stdout",
          "text": [
            "Epoch 01/40 | train_loss=1255.821  val_loss=285.948  mat_acc=0.888  qual_acc=0.585  avg_acc=0.736  lr=3.00e-04 ✅ best updated\n",
            "Epoch 02/40 | train_loss=852.822  val_loss=268.425  mat_acc=0.899  qual_acc=0.597  avg_acc=0.748  lr=3.00e-04 ✅ best updated\n",
            "Epoch 03/40 | train_loss=641.678  val_loss=263.388  mat_acc=0.907  qual_acc=0.654  avg_acc=0.781  lr=3.00e-04 ✅ best updated\n",
            "Epoch 04/40 | train_loss=527.132  val_loss=306.901  mat_acc=0.908  qual_acc=0.604  avg_acc=0.756  lr=3.00e-04\n"
          ]
        },
        {
          "output_type": "error",
          "ename": "KeyboardInterrupt",
          "evalue": "",
          "traceback": [
            "\u001b[0;31m---------------------------------------------------------------------------\u001b[0m",
            "\u001b[0;31mKeyboardInterrupt\u001b[0m                         Traceback (most recent call last)",
            "\u001b[0;32m/tmp/ipython-input-970186964.py\u001b[0m in \u001b[0;36m<cell line: 0>\u001b[0;34m()\u001b[0m\n\u001b[1;32m     13\u001b[0m             \u001b[0mloss\u001b[0m \u001b[0;34m=\u001b[0m \u001b[0mlossfn\u001b[0m\u001b[0;34m(\u001b[0m\u001b[0mm_logits\u001b[0m\u001b[0;34m,\u001b[0m \u001b[0mmat_y\u001b[0m\u001b[0;34m)\u001b[0m \u001b[0;34m+\u001b[0m \u001b[0mlossfn\u001b[0m\u001b[0;34m(\u001b[0m\u001b[0mq_logits\u001b[0m\u001b[0;34m,\u001b[0m \u001b[0mqual_y\u001b[0m\u001b[0;34m)\u001b[0m\u001b[0;34m\u001b[0m\u001b[0;34m\u001b[0m\u001b[0m\n\u001b[1;32m     14\u001b[0m         \u001b[0mopt\u001b[0m\u001b[0;34m.\u001b[0m\u001b[0mzero_grad\u001b[0m\u001b[0;34m(\u001b[0m\u001b[0mset_to_none\u001b[0m\u001b[0;34m=\u001b[0m\u001b[0;32mTrue\u001b[0m\u001b[0;34m)\u001b[0m\u001b[0;34m\u001b[0m\u001b[0;34m\u001b[0m\u001b[0m\n\u001b[0;32m---> 15\u001b[0;31m         \u001b[0mscaler\u001b[0m\u001b[0;34m.\u001b[0m\u001b[0mscale\u001b[0m\u001b[0;34m(\u001b[0m\u001b[0mloss\u001b[0m\u001b[0;34m)\u001b[0m\u001b[0;34m.\u001b[0m\u001b[0mbackward\u001b[0m\u001b[0;34m(\u001b[0m\u001b[0;34m)\u001b[0m\u001b[0;34m;\u001b[0m \u001b[0mscaler\u001b[0m\u001b[0;34m.\u001b[0m\u001b[0mstep\u001b[0m\u001b[0;34m(\u001b[0m\u001b[0mopt\u001b[0m\u001b[0;34m)\u001b[0m\u001b[0;34m;\u001b[0m \u001b[0mscaler\u001b[0m\u001b[0;34m.\u001b[0m\u001b[0mupdate\u001b[0m\u001b[0;34m(\u001b[0m\u001b[0;34m)\u001b[0m\u001b[0;34m\u001b[0m\u001b[0;34m\u001b[0m\u001b[0m\n\u001b[0m\u001b[1;32m     16\u001b[0m         \u001b[0mtrain_loss\u001b[0m \u001b[0;34m+=\u001b[0m \u001b[0mloss\u001b[0m\u001b[0;34m.\u001b[0m\u001b[0mitem\u001b[0m\u001b[0;34m(\u001b[0m\u001b[0;34m)\u001b[0m\u001b[0;34m\u001b[0m\u001b[0;34m\u001b[0m\u001b[0m\n\u001b[1;32m     17\u001b[0m \u001b[0;34m\u001b[0m\u001b[0m\n",
            "\u001b[0;32m/usr/local/lib/python3.12/dist-packages/torch/_tensor.py\u001b[0m in \u001b[0;36mbackward\u001b[0;34m(self, gradient, retain_graph, create_graph, inputs)\u001b[0m\n\u001b[1;32m    645\u001b[0m                 \u001b[0minputs\u001b[0m\u001b[0;34m=\u001b[0m\u001b[0minputs\u001b[0m\u001b[0;34m,\u001b[0m\u001b[0;34m\u001b[0m\u001b[0;34m\u001b[0m\u001b[0m\n\u001b[1;32m    646\u001b[0m             )\n\u001b[0;32m--> 647\u001b[0;31m         torch.autograd.backward(\n\u001b[0m\u001b[1;32m    648\u001b[0m             \u001b[0mself\u001b[0m\u001b[0;34m,\u001b[0m \u001b[0mgradient\u001b[0m\u001b[0;34m,\u001b[0m \u001b[0mretain_graph\u001b[0m\u001b[0;34m,\u001b[0m \u001b[0mcreate_graph\u001b[0m\u001b[0;34m,\u001b[0m \u001b[0minputs\u001b[0m\u001b[0;34m=\u001b[0m\u001b[0minputs\u001b[0m\u001b[0;34m\u001b[0m\u001b[0;34m\u001b[0m\u001b[0m\n\u001b[1;32m    649\u001b[0m         )\n",
            "\u001b[0;32m/usr/local/lib/python3.12/dist-packages/torch/autograd/__init__.py\u001b[0m in \u001b[0;36mbackward\u001b[0;34m(tensors, grad_tensors, retain_graph, create_graph, grad_variables, inputs)\u001b[0m\n\u001b[1;32m    352\u001b[0m     \u001b[0;31m# some Python versions print out the first line of a multi-line function\u001b[0m\u001b[0;34m\u001b[0m\u001b[0;34m\u001b[0m\u001b[0m\n\u001b[1;32m    353\u001b[0m     \u001b[0;31m# calls in the traceback and some print out the last line\u001b[0m\u001b[0;34m\u001b[0m\u001b[0;34m\u001b[0m\u001b[0m\n\u001b[0;32m--> 354\u001b[0;31m     _engine_run_backward(\n\u001b[0m\u001b[1;32m    355\u001b[0m         \u001b[0mtensors\u001b[0m\u001b[0;34m,\u001b[0m\u001b[0;34m\u001b[0m\u001b[0;34m\u001b[0m\u001b[0m\n\u001b[1;32m    356\u001b[0m         \u001b[0mgrad_tensors_\u001b[0m\u001b[0;34m,\u001b[0m\u001b[0;34m\u001b[0m\u001b[0;34m\u001b[0m\u001b[0m\n",
            "\u001b[0;32m/usr/local/lib/python3.12/dist-packages/torch/autograd/graph.py\u001b[0m in \u001b[0;36m_engine_run_backward\u001b[0;34m(t_outputs, *args, **kwargs)\u001b[0m\n\u001b[1;32m    827\u001b[0m         \u001b[0munregister_hooks\u001b[0m \u001b[0;34m=\u001b[0m \u001b[0m_register_logging_hooks_on_whole_graph\u001b[0m\u001b[0;34m(\u001b[0m\u001b[0mt_outputs\u001b[0m\u001b[0;34m)\u001b[0m\u001b[0;34m\u001b[0m\u001b[0;34m\u001b[0m\u001b[0m\n\u001b[1;32m    828\u001b[0m     \u001b[0;32mtry\u001b[0m\u001b[0;34m:\u001b[0m\u001b[0;34m\u001b[0m\u001b[0;34m\u001b[0m\u001b[0m\n\u001b[0;32m--> 829\u001b[0;31m         return Variable._execution_engine.run_backward(  # Calls into the C++ engine to run the backward pass\n\u001b[0m\u001b[1;32m    830\u001b[0m             \u001b[0mt_outputs\u001b[0m\u001b[0;34m,\u001b[0m \u001b[0;34m*\u001b[0m\u001b[0margs\u001b[0m\u001b[0;34m,\u001b[0m \u001b[0;34m**\u001b[0m\u001b[0mkwargs\u001b[0m\u001b[0;34m\u001b[0m\u001b[0;34m\u001b[0m\u001b[0m\n\u001b[1;32m    831\u001b[0m         )  # Calls into the C++ engine to run the backward pass\n",
            "\u001b[0;31mKeyboardInterrupt\u001b[0m: "
          ]
        }
      ],
      "source": [
        "# ======== Train / Validate / Early Stop ========\n",
        "best_metric, wait = -1.0, 0\n",
        "epoch_metrics = [] # List to store metrics per epoch\n",
        "\n",
        "for epoch in range(1, EPOCHS + 1):\n",
        "    # ---- Train ----\n",
        "    model.train(); train_loss = 0.0\n",
        "    for imgs, (mat_y, qual_y) in train_dl:\n",
        "        imgs = imgs.to(device, non_blocking=True)\n",
        "        mat_y, qual_y = mat_y.to(device, non_blocking=True), qual_y.to(device, non_blocking=True)\n",
        "        with autocast(device_type=device.type): # Pass device type to autocast\n",
        "            m_logits, q_logits = model(imgs)\n",
        "            loss = lossfn(m_logits, mat_y) + lossfn(q_logits, qual_y)\n",
        "        opt.zero_grad(set_to_none=True)\n",
        "        scaler.scale(loss).backward(); scaler.step(opt); scaler.update()\n",
        "        train_loss += loss.item()\n",
        "\n",
        "    # ---- Validate ----\n",
        "    model.eval(); val_loss = 0.0; mat_ok = qual_ok = n = 0\n",
        "    with torch.no_grad():\n",
        "        for imgs, (mat_y, qual_y) in val_dl:\n",
        "            imgs = imgs.to(device, non_blocking=True)\n",
        "            mat_y, qual_y = mat_y.to(device, non_blocking=True), qual_y.to(device, non_blocking=True)\n",
        "            with autocast(device_type=device.type): # Pass device type to autocast\n",
        "                m_logits, q_logits = model(imgs)\n",
        "                vloss = lossfn(m_logits, mat_y) + lossfn(q_logits, qual_y)\n",
        "            val_loss += vloss.item()\n",
        "            mat_ok += (m_logits.argmax(1) == mat_y).sum().item()\n",
        "            qual_ok += (q_logits.argmax(1) == qual_y).sum().item()\n",
        "            n += mat_y.size(0)\n",
        "\n",
        "    mat_acc, qual_acc = (mat_ok/n if n else 0.0), (qual_ok/n if n else 0.0)\n",
        "    metric = 0.5 * (mat_acc + qual_acc)\n",
        "    epoch_metrics.append(metric) # Store the metric\n",
        "\n",
        "    scheduler.step(metric)\n",
        "\n",
        "    # ---- Save checkpoints & early stop ----\n",
        "    torch.save(model.state_dict(), f\"ckpt_epoch{epoch}.pt\")\n",
        "    if metric > best_metric:\n",
        "        best_metric, wait = metric, 0\n",
        "        torch.save(model.state_dict(), \"best_model.pt\")\n",
        "        flag = \" ✅ best updated\"\n",
        "    else:\n",
        "        wait += 1; flag = \"\"\n",
        "\n",
        "    print(f\"Epoch {epoch:02d}/{EPOCHS} | train_loss={train_loss:.3f}  val_loss={val_loss:.3f}  \"\n",
        "          f\"mat_acc={mat_acc:.3f}  qual_acc={qual_acc:.3f}  avg_acc={metric:.3f}  \"\n",
        "          f\"lr={opt.param_groups[0]['lr']:.2e}{flag}\")\n",
        "\n",
        "    if wait >= PATIENCE:\n",
        "        print(f\"⏹️  Early stopping: no accuracy improvement for {PATIENCE} epochs.\")\n",
        "        break"
      ]
    },
    {
      "cell_type": "code",
      "metadata": {
        "colab": {
          "base_uri": "https://localhost:8080/"
        },
        "id": "1c7448fb",
        "outputId": "21cd24ed-f2e3-4407-e70f-bd7c77ea96db"
      },
      "source": [
        "# Find the last saved checkpoint\n",
        "checkpoint_files = [f for f in os.listdir('.') if f.startswith('ckpt_epoch') and f.endswith('.pt')]\n",
        "if not checkpoint_files:\n",
        "    print(\"No checkpoints found to resume training.\")\n",
        "else:\n",
        "    # Sort by epoch number to get the latest\n",
        "    latest_checkpoint = sorted(checkpoint_files, key=lambda x: int(x.split('ckpt_epoch')[1].split('.pt')[0]))[-1]\n",
        "    print(f\"Resuming from checkpoint: {latest_checkpoint}\")\n",
        "\n",
        "    # Load the model state\n",
        "    model.load_state_dict(torch.load(latest_checkpoint))\n",
        "\n",
        "    # Determine the starting epoch\n",
        "    start_epoch = int(latest_checkpoint.split('ckpt_epoch')[1].split('.pt')[0]) + 1\n",
        "\n",
        "    # Resume training loop\n",
        "    best_metric, wait = -1.0, 0 # Reset or load from a saved state if you were saving these\n",
        "    # If you saved best_metric and wait along with the checkpoint, load them here.\n",
        "    # For simplicity, we'll reset them here.\n",
        "\n",
        "    for epoch in range(start_epoch, EPOCHS + 1):\n",
        "        # ---- Train ----\n",
        "        model.train(); train_loss = 0.0\n",
        "        for imgs, (mat_y, qual_y) in train_dl:\n",
        "            imgs = imgs.to(device, non_blocking=True)\n",
        "            mat_y, qual_y = mat_y.to(device, non_blocking=True), qual_y.to(device, non_blocking=True)\n",
        "            with autocast(device_type=device.type): # Pass device type to autocast\n",
        "                m_logits, q_logits = model(imgs)\n",
        "                loss = lossfn(m_logits, mat_y) + lossfn(q_logits, qual_y)\n",
        "            opt.zero_grad(set_to_none=True)\n",
        "            scaler.scale(loss).backward(); scaler.step(opt); scaler.update()\n",
        "            train_loss += loss.item()\n",
        "\n",
        "        # ---- Validate ----\n",
        "        model.eval(); val_loss = 0.0; mat_ok = qual_ok = n = 0\n",
        "        with torch.no_grad():\n",
        "            for imgs, (mat_y, qual_y) in val_dl:\n",
        "                imgs = imgs.to(device, non_blocking=True)\n",
        "                mat_y, qual_y = mat_y.to(device, non_blocking=True), qual_y.to(device, non_blocking=True)\n",
        "                with autocast(device_type=device.type): # Pass device type to autocast\n",
        "                    m_logits, q_logits = model(imgs)\n",
        "                    vloss = lossfn(m_logits, mat_y) + lossfn(q_logits, qual_y)\n",
        "                val_loss += vloss.item()\n",
        "                mat_ok += (m_logits.argmax(1) == mat_y).sum().item()\n",
        "                qual_ok += (q_logits.argmax(1) == qual_y).sum().item()\n",
        "                n += mat_y.size(0)\n",
        "\n",
        "        mat_acc, qual_acc = (mat_ok/n if n else 0.0), (qual_ok/n if n else 0.0)\n",
        "        metric = 0.5 * (mat_acc + qual_acc)\n",
        "        # epoch_metrics.append(metric) # Uncomment if you want to continue tracking metrics\n",
        "\n",
        "        scheduler.step(metric)\n",
        "\n",
        "        # ---- Save checkpoints & early stop ----\n",
        "        torch.save(model.state_dict(), f\"ckpt_epoch{epoch}.pt\")\n",
        "        if metric > best_metric:\n",
        "            best_metric, wait = metric, 0\n",
        "            torch.save(model.state_dict(), \"best_model.pt\")\n",
        "            flag = \" ✅ best updated\"\n",
        "        else:\n",
        "            wait += 1; flag = \"\"\n",
        "\n",
        "        print(f\"Epoch {epoch:02d}/{EPOCHS} | train_loss={train_loss:.3f}  val_loss={val_loss:.3f}  \"\n",
        "              f\"mat_acc={mat_acc:.3f}  qual_acc={qual_acc:.3f}  avg_acc={metric:.3f}  \"\n",
        "              f\"lr={opt.param_groups[0]['lr']:.2e}{flag}\")\n",
        "\n",
        "        if wait >= PATIENCE:\n",
        "            print(f\"⏹️  Early stopping: no accuracy improvement for {PATIENCE} epochs.\")\n",
        "            break"
      ],
      "execution_count": 16,
      "outputs": [
        {
          "output_type": "stream",
          "name": "stdout",
          "text": [
            "Resuming from checkpoint: ckpt_epoch4.pt\n",
            "Epoch 05/40 | train_loss=521.306  val_loss=185.850  mat_acc=0.961  qual_acc=0.738  avg_acc=0.850  lr=3.00e-04 ✅ best updated\n",
            "Epoch 06/40 | train_loss=392.478  val_loss=283.057  mat_acc=0.953  qual_acc=0.641  avg_acc=0.797  lr=3.00e-04\n",
            "Epoch 07/40 | train_loss=304.497  val_loss=237.352  mat_acc=0.941  qual_acc=0.732  avg_acc=0.837  lr=3.00e-04\n",
            "Epoch 08/40 | train_loss=294.793  val_loss=209.976  mat_acc=0.952  qual_acc=0.738  avg_acc=0.845  lr=1.50e-04\n",
            "Epoch 09/40 | train_loss=155.043  val_loss=190.499  mat_acc=0.969  qual_acc=0.750  avg_acc=0.859  lr=1.50e-04 ✅ best updated\n",
            "Epoch 10/40 | train_loss=100.715  val_loss=205.412  mat_acc=0.953  qual_acc=0.755  avg_acc=0.854  lr=1.50e-04\n",
            "Epoch 11/40 | train_loss=83.286  val_loss=235.388  mat_acc=0.966  qual_acc=0.755  avg_acc=0.860  lr=1.50e-04 ✅ best updated\n",
            "Epoch 12/40 | train_loss=72.564  val_loss=251.358  mat_acc=0.959  qual_acc=0.738  avg_acc=0.848  lr=1.50e-04\n",
            "Epoch 13/40 | train_loss=64.754  val_loss=314.520  mat_acc=0.961  qual_acc=0.691  avg_acc=0.826  lr=1.50e-04\n",
            "Epoch 14/40 | train_loss=67.897  val_loss=215.350  mat_acc=0.968  qual_acc=0.751  avg_acc=0.859  lr=7.50e-05\n",
            "Epoch 15/40 | train_loss=33.759  val_loss=223.374  mat_acc=0.965  qual_acc=0.769  avg_acc=0.867  lr=7.50e-05 ✅ best updated\n",
            "Epoch 16/40 | train_loss=23.344  val_loss=257.371  mat_acc=0.964  qual_acc=0.753  avg_acc=0.859  lr=7.50e-05\n",
            "Epoch 17/40 | train_loss=18.019  val_loss=250.444  mat_acc=0.973  qual_acc=0.763  avg_acc=0.868  lr=7.50e-05 ✅ best updated\n",
            "Epoch 18/40 | train_loss=22.148  val_loss=256.881  mat_acc=0.968  qual_acc=0.758  avg_acc=0.863  lr=7.50e-05\n",
            "Epoch 19/40 | train_loss=17.849  val_loss=279.963  mat_acc=0.968  qual_acc=0.755  avg_acc=0.861  lr=7.50e-05\n",
            "Epoch 20/40 | train_loss=13.911  val_loss=280.749  mat_acc=0.972  qual_acc=0.762  avg_acc=0.867  lr=3.75e-05\n",
            "Epoch 21/40 | train_loss=20.549  val_loss=262.973  mat_acc=0.975  qual_acc=0.769  avg_acc=0.872  lr=3.75e-05 ✅ best updated\n",
            "Epoch 22/40 | train_loss=8.297  val_loss=266.190  mat_acc=0.977  qual_acc=0.770  avg_acc=0.873  lr=3.75e-05 ✅ best updated\n",
            "Epoch 23/40 | train_loss=5.689  val_loss=268.983  mat_acc=0.974  qual_acc=0.781  avg_acc=0.877  lr=3.75e-05 ✅ best updated\n",
            "Epoch 24/40 | train_loss=4.967  val_loss=302.515  mat_acc=0.972  qual_acc=0.765  avg_acc=0.868  lr=3.75e-05\n",
            "Epoch 25/40 | train_loss=6.624  val_loss=277.170  mat_acc=0.970  qual_acc=0.786  avg_acc=0.878  lr=3.75e-05 ✅ best updated\n",
            "Epoch 26/40 | train_loss=4.279  val_loss=294.349  mat_acc=0.970  qual_acc=0.774  avg_acc=0.872  lr=3.75e-05\n",
            "Epoch 27/40 | train_loss=5.402  val_loss=295.116  mat_acc=0.972  qual_acc=0.785  avg_acc=0.878  lr=3.75e-05 ✅ best updated\n",
            "Epoch 28/40 | train_loss=4.378  val_loss=303.269  mat_acc=0.970  qual_acc=0.773  avg_acc=0.871  lr=3.75e-05\n",
            "Epoch 29/40 | train_loss=8.066  val_loss=288.976  mat_acc=0.970  qual_acc=0.770  avg_acc=0.870  lr=3.75e-05\n",
            "Epoch 30/40 | train_loss=2.014  val_loss=303.134  mat_acc=0.969  qual_acc=0.776  avg_acc=0.873  lr=1.87e-05\n",
            "Epoch 31/40 | train_loss=5.237  val_loss=296.521  mat_acc=0.969  qual_acc=0.773  avg_acc=0.871  lr=1.87e-05\n",
            "Epoch 32/40 | train_loss=3.825  val_loss=298.474  mat_acc=0.970  qual_acc=0.781  avg_acc=0.875  lr=1.87e-05\n",
            "Epoch 33/40 | train_loss=2.242  val_loss=291.554  mat_acc=0.972  qual_acc=0.773  avg_acc=0.873  lr=9.37e-06\n",
            "Epoch 34/40 | train_loss=1.088  val_loss=297.568  mat_acc=0.972  qual_acc=0.775  avg_acc=0.873  lr=9.37e-06\n",
            "Epoch 35/40 | train_loss=1.956  val_loss=297.914  mat_acc=0.971  qual_acc=0.777  avg_acc=0.874  lr=9.37e-06\n",
            "Epoch 36/40 | train_loss=1.548  val_loss=298.976  mat_acc=0.972  qual_acc=0.780  avg_acc=0.876  lr=4.69e-06\n",
            "Epoch 37/40 | train_loss=1.414  val_loss=303.609  mat_acc=0.971  qual_acc=0.779  avg_acc=0.875  lr=4.69e-06\n",
            "⏹️  Early stopping: no accuracy improvement for 10 epochs.\n"
          ]
        }
      ]
    },
    {
      "cell_type": "code",
      "metadata": {
        "colab": {
          "base_uri": "https://localhost:8080/"
        },
        "id": "2d6e799a",
        "outputId": "86eac285-0b5b-47e8-b152-ca0fdb22a0fa"
      },
      "source": [
        "import os\n",
        "import shutil\n",
        "\n",
        "# Define the source file path (the model checkpoint in the current directory)\n",
        "source_file = \"best_model.pt\"\n",
        "\n",
        "# Define the destination directory in your Google Drive\n",
        "# Make sure this directory exists in your Drive, or create it if necessary\n",
        "destination_dir = \"/content/drive/MyDrive/saved_models/\"\n",
        "\n",
        "# Create the destination directory if it doesn't exist\n",
        "os.makedirs(destination_dir, exist_ok=True)\n",
        "\n",
        "# Define the full destination path for the file\n",
        "destination_file = os.path.join(destination_dir, os.path.basename(source_file))\n",
        "\n",
        "# Copy the file from the source to the destination\n",
        "try:\n",
        "    shutil.copy(source_file, destination_file)\n",
        "    print(f\"Successfully copied {source_file} to {destination_file}\")\n",
        "except FileNotFoundError:\n",
        "    print(f\"Error: Source file '{source_file}' not found.\")\n",
        "except Exception as e:\n",
        "    print(f\"An error occurred while copying the file: {e}\")"
      ],
      "execution_count": 17,
      "outputs": [
        {
          "output_type": "stream",
          "name": "stdout",
          "text": [
            "Successfully copied best_model.pt to /content/drive/MyDrive/saved_models/best_model.pt\n"
          ]
        }
      ]
    },
    {
      "cell_type": "code",
      "source": [
        "# ======== Final Evaluation: Confusion Matrices (val set) ========\n",
        "cm_mat  = torch.zeros(NUM_MATERIALS, NUM_MATERIALS, dtype=torch.int64)  # [true, pred]\n",
        "cm_qual = torch.zeros(NUM_QUALITIES, NUM_QUALITIES, dtype=torch.int64)\n",
        "\n",
        "model.eval()\n",
        "with torch.no_grad():\n",
        "    for imgs, (mat_y, qual_y) in val_dl:\n",
        "        imgs = imgs.to(device, non_blocking=True)\n",
        "        mat_y, qual_y = mat_y.to(device), qual_y.to(device)\n",
        "        m_logits, q_logits = model(imgs)\n",
        "        m_pred, q_pred = m_logits.argmax(1), q_logits.argmax(1)\n",
        "        for t, p in zip(mat_y.view(-1), m_pred.view(-1)):\n",
        "            cm_mat[t.long(), p.long()] += 1\n",
        "        for t, p in zip(qual_y.view(-1), q_pred.view(-1)):\n",
        "            cm_qual[t.long(), p.long()] += 1\n"
      ],
      "metadata": {
        "id": "CHL1UphIdL-8"
      },
      "execution_count": null,
      "outputs": []
    },
    {
      "cell_type": "code",
      "source": [
        "import matplotlib.pyplot as plt\n",
        "import seaborn as sns\n",
        "import numpy as np\n",
        "\n",
        "# Create subplots for side-by-side display\n",
        "fig, axes = plt.subplots(1, 2, figsize=(16, 6)) # 1 row, 2 columns\n",
        "\n",
        "# Plot Material Confusion Matrix\n",
        "sns.heatmap(cm_mat.cpu().numpy(), annot=True, fmt='d', cmap='Blues', xticklabels=material_names, yticklabels=material_names, ax=axes[0])\n",
        "axes[0].set_title('Confusion Matrix: Material')\n",
        "axes[0].set_xlabel('Predicted Label')\n",
        "axes[0].set_ylabel('True Label')\n",
        "\n",
        "# Plot Quality Confusion Matrix\n",
        "sns.heatmap(cm_qual.cpu().numpy(), annot=True, fmt='d', cmap='Blues', xticklabels=quality_names, yticklabels=quality_names, ax=axes[1])\n",
        "axes[1].set_title('Confusion Matrix: Quality')\n",
        "axes[1].set_xlabel('Predicted Label')\n",
        "axes[1].set_ylabel('True Label')\n",
        "\n",
        "plt.tight_layout()\n",
        "plt.show()"
      ],
      "metadata": {
        "id": "ngRqknUc2UHe"
      },
      "execution_count": null,
      "outputs": []
    },
    {
      "cell_type": "code",
      "source": [],
      "metadata": {
        "id": "tMgrfCo827ZL"
      },
      "execution_count": null,
      "outputs": []
    },
    {
      "cell_type": "code",
      "metadata": {
        "id": "79352380"
      },
      "source": [
        "import matplotlib.pyplot as plt\n",
        "\n",
        "# Assuming epoch_metrics list is available from the training loop execution (cell 2_DfbKh5bcct)\n",
        "\n",
        "epochs = range(1, len(epoch_metrics) + 1)\n",
        "\n",
        "plt.figure(figsize=(10, 6))\n",
        "plt.plot(epochs, epoch_metrics, marker='o', linestyle='-')\n",
        "plt.title('Average Validation Accuracy per Epoch')\n",
        "plt.xlabel('Epoch')\n",
        "plt.ylabel('Average Accuracy')\n",
        "plt.grid(True)\n",
        "plt.xticks(epochs) # Ensure all epochs are shown on the x-axis\n",
        "plt.show()"
      ],
      "execution_count": null,
      "outputs": []
    },
    {
      "cell_type": "code",
      "metadata": {
        "colab": {
          "base_uri": "https://localhost:8080/"
        },
        "id": "3e46f16a",
        "outputId": "68212afa-a56e-429a-801a-193df51b6024"
      },
      "source": [
        "import os\n",
        "import datetime\n",
        "\n",
        "file_path = \"/content/best_model.pt\"\n",
        "try:\n",
        "    # Get the creation time (ctime) of the file\n",
        "    ctime_timestamp = os.path.getctime(file_path)\n",
        "    ctime_datetime = datetime.datetime.fromtimestamp(ctime_timestamp)\n",
        "    print(f\"The file '{file_path}' was created on: {ctime_datetime}\")\n",
        "except FileNotFoundError:\n",
        "    print(f\"Error: The file '{file_path}' was not found.\")\n",
        "except Exception as e:\n",
        "    print(f\"An error occurred: {e}\")"
      ],
      "execution_count": 13,
      "outputs": [
        {
          "output_type": "stream",
          "name": "stdout",
          "text": [
            "The file '/content/best_model.pt' was created on: 2025-08-29 01:12:48.480273\n"
          ]
        }
      ]
    }
  ]
}
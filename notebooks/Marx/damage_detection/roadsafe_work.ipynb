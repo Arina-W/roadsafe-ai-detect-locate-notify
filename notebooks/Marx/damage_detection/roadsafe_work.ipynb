{
  "cells": [
    {
      "cell_type": "code",
      "execution_count": 8,
      "metadata": {
        "colab": {
          "base_uri": "https://localhost:8080/"
        },
        "collapsed": true,
        "id": "OTTVquW5bQbi",
        "outputId": "c6729036-38e1-4e6c-f7c0-f31bba849abe"
      },
      "outputs": [
        {
          "name": "stdout",
          "output_type": "stream",
          "text": [
            "Saving all outputs under: /Users/Marcello/code/Arina-W/roadsafe-ai-detect-locate-notify/notebooks/Marx/damage_detection/runs\n"
          ]
        }
      ],
      "source": [
        "!pip -q install -U ultralytics roboflow python-dotenv pyyaml\n",
        "\n",
        "from ultralytics import YOLO\n",
        "from dotenv import load_dotenv\n",
        "import os, yaml\n",
        "\n",
        "# Local runs directory (beside your notebook)\n",
        "RUN_ROOT = \"./runs\"\n",
        "os.makedirs(RUN_ROOT, exist_ok=True)\n",
        "print(\"Saving all outputs under:\", os.path.abspath(RUN_ROOT))\n"
      ]
    },
    {
      "cell_type": "code",
      "execution_count": 9,
      "metadata": {},
      "outputs": [
        {
          "name": "stdout",
          "output_type": "stream",
          "text": [
            "loading Roboflow workspace...\n",
            "loading Roboflow project...\n",
            "DATA_YAML: /Users/Marcello/code/Arina-W/roadsafe-ai-detect-locate-notify/notebooks/Marx/damage_detection/road-damage-1/data.yaml\n"
          ]
        }
      ],
      "source": [
        "# Downloading dataset from roboflow\n",
        "# .env should contain: ROBOFLOW_API_KEY=xxxxxxxxxxxx\n",
        "load_dotenv()\n",
        "api_key = os.getenv(\"ROBOFLOW_API_KEY\", \"\").strip()\n",
        "assert api_key, \"ROBOFLOW_API_KEY missing. Add it to .env next to the notebook.\"\n",
        "\n",
        "from roboflow import Roboflow\n",
        "rf = Roboflow(api_key=api_key)\n",
        "project  = rf.workspace(\"khumbu\").project(\"road-damage-rwhhe\")\n",
        "version  = project.version(1)\n",
        "dataset  = version.download(\"yolov11\")   # -> e.g. ./road-damage-1\n",
        "\n",
        "DATA_YAML = os.path.join(dataset.location, \"data.yaml\")\n",
        "print(\"DATA_YAML:\", DATA_YAML)\n"
      ]
    },
    {
      "cell_type": "code",
      "execution_count": 10,
      "metadata": {},
      "outputs": [],
      "source": [
        "# we reuse this best.pt file so we don't need to retrain the model\n",
        "model = YOLO(\"best.pt\")"
      ]
    },
    {
      "cell_type": "code",
      "execution_count": 11,
      "metadata": {
        "colab": {
          "base_uri": "https://localhost:8080/"
        },
        "id": "E62c0FVccGSM",
        "outputId": "6a6b3553-19a9-4830-e39a-4f1bdf4453f7"
      },
      "outputs": [
        {
          "name": "stdout",
          "output_type": "stream",
          "text": [
            "Class mapping:\n",
            "0 → 0\n",
            "1 → 1\n",
            "2 → 2\n",
            "3 → 3\n",
            "4 → 4\n"
          ]
        }
      ],
      "source": [
        "# See class mapping\n",
        "print(\"Class mapping:\")\n",
        "for k, v in model.names.items():\n",
        "    print(f\"{k} → {v}\")"
      ]
    },
    {
      "cell_type": "code",
      "execution_count": 12,
      "metadata": {
        "colab": {
          "base_uri": "https://localhost:8080/"
        },
        "id": "tcv6xm1rcH51",
        "outputId": "c077071b-a5f0-4c2b-e97a-de75b0c00a47"
      },
      "outputs": [
        {
          "name": "stdout",
          "output_type": "stream",
          "text": [
            "Ultralytics 8.3.187 🚀 Python-3.12.9 torch-2.2.2 CPU (Intel Core(TM) i9-9980HK 2.40GHz)\n",
            "YOLO11s summary (fused): 100 layers, 9,414,735 parameters, 0 gradients, 21.3 GFLOPs\n",
            "\u001b[34m\u001b[1mval: \u001b[0mFast image access ✅ (ping: 0.3±0.2 ms, read: 164.5±43.0 MB/s, size: 89.2 KB)\n",
            "\u001b[K\u001b[34m\u001b[1mval: \u001b[0mScanning /Users/Marcello/code/Arina-W/roadsafe-ai-detect-locate-notify/notebooks/Marx/damage_detection/road-damage-1/valid/labels.cache... 260 images, 0 backgrounds, 0 corrupt: 100% ━━━━━━━━━━━━ 260/260 301248.4it/s 0.0s0s\n",
            "\u001b[K                 Class     Images  Instances      Box(P          R      mAP50  mAP50-95): 100% ━━━━━━━━━━━━ 17/17 0.22it/s 1:16s\n",
            "                   all        260        584      0.777      0.687       0.74      0.466\n",
            "                     0        115        170      0.747      0.765      0.776      0.483\n",
            "                     1         87        143      0.762       0.47      0.588      0.279\n",
            "                     2         55         78      0.905      0.858      0.899      0.671\n",
            "                     3         77        130      0.647      0.563      0.623      0.359\n",
            "                     4         54         63      0.824      0.778      0.817      0.539\n",
            "Speed: 2.8ms preprocess, 278.6ms inference, 0.0ms loss, 1.4ms postprocess per image\n",
            "Ultralytics 8.3.187 🚀 Python-3.12.9 torch-2.2.2 CPU (Intel Core(TM) i9-9980HK 2.40GHz)\n",
            "\u001b[34m\u001b[1mval: \u001b[0mFast image access ✅ (ping: 0.3±0.1 ms, read: 179.0±39.6 MB/s, size: 87.2 KB)\n",
            "\u001b[K\u001b[34m\u001b[1mval: \u001b[0mScanning /Users/Marcello/code/Arina-W/roadsafe-ai-detect-locate-notify/notebooks/Marx/damage_detection/road-damage-1/test/labels... 138 images, 0 backgrounds, 0 corrupt: 100% ━━━━━━━━━━━━ 138/138 693.2it/s 0.2s\n",
            "\u001b[34m\u001b[1mval: \u001b[0mNew cache created: /Users/Marcello/code/Arina-W/roadsafe-ai-detect-locate-notify/notebooks/Marx/damage_detection/road-damage-1/test/labels.cache\n",
            "\u001b[K                 Class     Images  Instances      Box(P          R      mAP50  mAP50-95): 100% ━━━━━━━━━━━━ 9/9 0.19it/s 46.5s\n",
            "                   all        138        330      0.736      0.728      0.755      0.473\n",
            "                     0         59         91      0.719      0.747      0.761      0.494\n",
            "                     1         45         84      0.608      0.536       0.54      0.275\n",
            "                     2         32         47      0.899      0.894      0.894      0.659\n",
            "                     3         35         58      0.628      0.603      0.675      0.401\n",
            "                     4         33         50      0.827      0.859      0.903      0.534\n",
            "Speed: 3.0ms preprocess, 317.8ms inference, 0.0ms loss, 1.7ms postprocess per image\n",
            "Val saved to: runs/roadsafe_v11s_val\n",
            "Test saved to: runs/roadsafe_v11s_test\n"
          ]
        }
      ],
      "source": [
        "val_metrics = model.val(\n",
        "    data=DATA_YAML,\n",
        "    split=\"val\",\n",
        "    plots=False,      # <- disable plots so lzma isn't needed\n",
        "    project=RUN_ROOT,\n",
        "    name=\"roadsafe_v11s_val\",\n",
        "    exist_ok=True\n",
        ")\n",
        "test_metrics = model.val(\n",
        "    data=DATA_YAML,\n",
        "    split=\"test\",\n",
        "    plots=False,      # <- same here\n",
        "    project=RUN_ROOT,\n",
        "    name=\"roadsafe_v11s_test\",\n",
        "    exist_ok=True\n",
        ")\n",
        "\n",
        "print(\"Val saved to:\",  val_metrics.save_dir)\n",
        "print(\"Test saved to:\", test_metrics.save_dir)"
      ]
    },
    {
      "cell_type": "code",
      "execution_count": 13,
      "metadata": {
        "colab": {
          "base_uri": "https://localhost:8080/"
        },
        "collapsed": true,
        "id": "_HX6e_jbcMmd",
        "outputId": "14943349-ddcb-4a19-ce2a-d925aa68993f"
      },
      "outputs": [
        {
          "name": "stdout",
          "output_type": "stream",
          "text": [
            "\n",
            "0: 800x800 1 2, 1 3, 305.5ms\n",
            "1: 800x800 1 3, 305.5ms\n",
            "2: 800x800 3 0s, 1 4, 305.5ms\n",
            "3: 800x800 1 2, 305.5ms\n",
            "4: 800x800 1 0, 305.5ms\n",
            "5: 800x800 2 2s, 305.5ms\n",
            "6: 800x800 1 1, 305.5ms\n",
            "7: 800x800 3 0s, 305.5ms\n",
            "8: 800x800 1 2, 1 4, 305.5ms\n",
            "9: 800x800 1 2, 305.5ms\n",
            "10: 800x800 1 2, 1 4, 305.5ms\n",
            "11: 800x800 2 2s, 305.5ms\n",
            "12: 800x800 1 2, 2 4s, 305.5ms\n",
            "13: 800x800 1 4, 305.5ms\n",
            "14: 800x800 1 3, 305.5ms\n",
            "15: 800x800 2 3s, 305.5ms\n",
            "16: 800x800 1 0, 305.5ms\n",
            "17: 800x800 2 3s, 1 4, 305.5ms\n",
            "18: 800x800 1 2, 305.5ms\n",
            "19: 800x800 2 3s, 305.5ms\n",
            "Speed: 5.2ms preprocess, 305.5ms inference, 1.3ms postprocess per image at shape (1, 3, 800, 800)\n",
            "Results saved to \u001b[1mruns/roadsafe_v11s_pred_valid\u001b[0m\n",
            "Val predictions → runs/roadsafe_v11s_pred_valid\n",
            "\n",
            "0: 800x800 1 2, 1 3, 1 4, 288.0ms\n",
            "1: 800x800 1 3, 288.0ms\n",
            "2: 800x800 3 0s, 288.0ms\n",
            "3: 800x800 2 0s, 288.0ms\n",
            "4: 800x800 1 2, 288.0ms\n",
            "5: 800x800 1 2, 288.0ms\n",
            "6: 800x800 1 2, 288.0ms\n",
            "7: 800x800 1 2, 288.0ms\n",
            "8: 800x800 1 3, 288.0ms\n",
            "9: 800x800 3 3s, 288.0ms\n",
            "10: 800x800 3 3s, 288.0ms\n",
            "11: 800x800 1 3, 288.0ms\n",
            "12: 800x800 1 2, 288.0ms\n",
            "13: 800x800 2 3s, 288.0ms\n",
            "14: 800x800 1 0, 288.0ms\n",
            "15: 800x800 1 2, 288.0ms\n",
            "16: 800x800 1 2, 288.0ms\n",
            "17: 800x800 1 4, 288.0ms\n",
            "18: 800x800 1 4, 288.0ms\n",
            "19: 800x800 1 2, 288.0ms\n",
            "Speed: 5.3ms preprocess, 288.0ms inference, 0.7ms postprocess per image at shape (1, 3, 800, 800)\n",
            "Results saved to \u001b[1mruns/roadsafe_v11s_pred_test\u001b[0m\n",
            "Test predictions → runs/roadsafe_v11s_pred_test\n"
          ]
        }
      ],
      "source": [
        "import glob\n",
        "\n",
        "# Get first 20 validation images\n",
        "val_images = sorted(glob.glob(os.path.join(os.path.dirname(DATA_YAML), \"valid\", \"images\", \"*\")))[:20]\n",
        "\n",
        "pred_val = model.predict(\n",
        "    source=val_images,\n",
        "    conf=0.25,\n",
        "    save=True,\n",
        "    project=RUN_ROOT,\n",
        "    name=\"roadsafe_v11s_pred_valid\",\n",
        "    exist_ok=True\n",
        ")\n",
        "print(\"Val predictions →\", pred_val[0].save_dir)\n",
        "\n",
        "# Get first 20 test images\n",
        "test_images = sorted(glob.glob(os.path.join(os.path.dirname(DATA_YAML), \"test\", \"images\", \"*\")))[:20]\n",
        "\n",
        "pred_test = model.predict(\n",
        "    source=test_images,\n",
        "    conf=0.25,\n",
        "    save=True,\n",
        "    project=RUN_ROOT,\n",
        "    name=\"roadsafe_v11s_pred_test\",\n",
        "    exist_ok=True\n",
        ")\n",
        "print(\"Test predictions →\", pred_test[0].save_dir)\n"
      ]
    },
    {
      "cell_type": "code",
      "execution_count": 14,
      "metadata": {
        "colab": {
          "base_uri": "https://localhost:8080/"
        },
        "id": "2LJnjoECcdik",
        "outputId": "a0767fcd-418e-42ca-a6bb-b4f70189bc81"
      },
      "outputs": [
        {
          "name": "stdout",
          "output_type": "stream",
          "text": [
            "train: ../train/images\n",
            "val: ../valid/images\n",
            "test: ../test/images\n",
            "\n",
            "nc: 5\n",
            "names: ['0', '1', '2', '3', '4']\n",
            "\n",
            "roboflow:\n",
            "  workspace: khumbu\n",
            "  project: road-damage-rwhhe\n",
            "  version: 1\n",
            "  license: CC BY 4.0\n",
            "  url: https://universe.roboflow.com/khumbu/road-damage-rwhhe/dataset/1\n"
          ]
        }
      ],
      "source": [
        "with open(DATA_YAML) as f:\n",
        "    print(f.read())\n"
      ]
    },
    {
      "cell_type": "code",
      "execution_count": null,
      "metadata": {},
      "outputs": [],
      "source": []
    }
  ],
  "metadata": {
    "accelerator": "GPU",
    "colab": {
      "gpuType": "T4",
      "provenance": []
    },
    "kernelspec": {
      "display_name": "roadsafe_env",
      "language": "python",
      "name": "python3"
    },
    "language_info": {
      "codemirror_mode": {
        "name": "ipython",
        "version": 3
      },
      "file_extension": ".py",
      "mimetype": "text/x-python",
      "name": "python",
      "nbconvert_exporter": "python",
      "pygments_lexer": "ipython3",
      "version": "3.12.9"
    }
  },
  "nbformat": 4,
  "nbformat_minor": 0
}

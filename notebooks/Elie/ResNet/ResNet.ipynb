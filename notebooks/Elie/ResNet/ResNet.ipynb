{
  "cells": [
    {
      "cell_type": "code",
      "execution_count": 2,
      "metadata": {
        "id": "qYM3BJHcYbLi"
      },
      "outputs": [],
      "source": [
        "# ---------------- Complete Dataset without Augmentation ----------------\n",
        "import os\n",
        "import torch\n",
        "from torch.utils.data import TensorDataset, DataLoader, random_split\n",
        "from PIL import Image\n",
        "import pandas as pd\n",
        "import numpy as np\n",
        "import albumentations as A\n",
        "from albumentations.pytorch import ToTensorV2\n",
        "from torchvision import models\n",
        "import torch.nn as nn\n",
        "import torch.optim as optim\n",
        "from matplotlib import pyplot as plt\n",
        "from google.colab import drive"
      ]
    },
    {
      "cell_type": "code",
      "execution_count": 3,
      "metadata": {
        "id": "Sah3p8SGbkA1"
      },
      "outputs": [],
      "source": [
        "# !pip install albumentations\n",
        "# !pip install torch torchvision\n",
        "# !pip install pandas"
      ]
    },
    {
      "cell_type": "code",
      "execution_count": 4,
      "metadata": {
        "colab": {
          "base_uri": "https://localhost:8080/"
        },
        "id": "T_bO0QkiZLfY",
        "outputId": "555b0b3d-8155-486a-bb8f-8d5cad6691ce"
      },
      "outputs": [
        {
          "output_type": "stream",
          "name": "stdout",
          "text": [
            "Mounted at /content/drive\n"
          ]
        }
      ],
      "source": [
        "# ---------------- Google Drive ----------------\n",
        "drive.mount('/content/drive')"
      ]
    },
    {
      "cell_type": "code",
      "execution_count": 8,
      "metadata": {
        "id": "_dv7WPfDZOPC"
      },
      "outputs": [],
      "source": [
        "# ---------------- Config ----------------\n",
        "#csv_path = '/content/drive/MyDrive/streetSurfaceVis_v1_0.csv'\n",
        "csv_path = 'streetSurfaceVis_v1_0.csv'\n",
        "img_folder = '/content/drive/MyDrive/s_1024'\n",
        "\n",
        "SURFACE_TYPE_MAP = {\"asphalt\":0,\"concrete\":1,\"paving_stones\":2,\"unpaved\":3,\"sett\":4}\n",
        "SURFACE_QUALITY_MAP = {\"excellent\":0,\"good\":1,\"intermediate\":2,\"bad\":3,\"very_bad\":4}\n",
        "\n",
        "device = torch.device('cuda' if torch.cuda.is_available() else 'cpu')"
      ]
    },
    {
      "cell_type": "code",
      "execution_count": 9,
      "metadata": {
        "id": "cPymhub7Zcwq"
      },
      "outputs": [],
      "source": [
        "# ---------------- Augmentation DISABLED ----------------\n",
        "# Just resize + convert to tensor\n",
        "augmentations = A.Compose([\n",
        "    A.Resize(288,512),\n",
        "    ToTensorV2()\n",
        "])"
      ]
    },
    {
      "cell_type": "code",
      "execution_count": 10,
      "metadata": {
        "id": "v4Q4rGBIZgZw"
      },
      "outputs": [],
      "source": [
        "# # ---------------- Load CSV and generate dataset ----------------\n",
        "df = pd.read_csv(csv_path)\n",
        "images_list, main_labels_list, sub_labels_list = [], [], []\n",
        "missing_files = []\n",
        "\n",
        "# for _, row in df.iterrows():\n",
        "#     path = os.path.join(img_folder, f\"{row['mapillary_image_id']}.jpg\")\n",
        "#     if not os.path.exists(path):\n",
        "#         missing_files.append(row['mapillary_image_id'])\n",
        "#         continue  # skip missing files\n",
        "\n",
        "#     img = Image.open(path).convert('RGB')\n",
        "#     img_np = np.array(img)\n",
        "\n",
        "#     # only one copy, no augmentation\n",
        "#     img_tensor = augmentations(image=img_np)['image']\n",
        "#     images_list.append(img_tensor)\n",
        "#     main_labels_list.append(SURFACE_TYPE_MAP[row['surface_type']])\n",
        "#     sub_labels_list.append(SURFACE_QUALITY_MAP[row['surface_quality']])\n",
        "\n",
        "# print(f\"⚠️ Skipped {len(missing_files)} missing images\")\n",
        "# if missing_files:\n",
        "#     print(\"Missing image IDs:\", missing_files)"
      ]
    },
    {
      "cell_type": "code",
      "execution_count": 11,
      "metadata": {
        "id": "12FR01eedp8M"
      },
      "outputs": [],
      "source": [
        "class StreetSurfaceDataset(torch.utils.data.Dataset):\n",
        "    def __init__(self, df, img_folder, transform=None, n_aug=3):\n",
        "        self.df = df.reset_index(drop=True)\n",
        "        self.img_folder = img_folder\n",
        "        self.transform = transform\n",
        "        self.n_aug = n_aug\n",
        "\n",
        "    def __len__(self):\n",
        "        return len(self.df) * (1 + self.n_aug)  # original + augmentations\n",
        "\n",
        "    def __getitem__(self, idx):\n",
        "        real_idx = idx // (1 + self.n_aug)\n",
        "\n",
        "        row = self.df.iloc[real_idx]\n",
        "        img_path = os.path.join(self.img_folder, f\"{row['mapillary_image_id']}.jpg\")\n",
        "\n",
        "        if not os.path.exists(img_path):\n",
        "            # Handle missing files - return a black image or skip\n",
        "            img_tensor = torch.zeros(3, 288, 512)\n",
        "        else:\n",
        "            img = Image.open(img_path).convert('RGB')\n",
        "            img_np = np.array(img)\n",
        "\n",
        "            if self.transform:\n",
        "                img_tensor = self.transform(image=img_np)['image']\n",
        "            else:\n",
        "                img_tensor = torch.from_numpy(img_np).permute(2, 0, 1)\n",
        "\n",
        "        main_label = SURFACE_TYPE_MAP[row['surface_type']]\n",
        "        sub_label = SURFACE_QUALITY_MAP[row['surface_quality']]\n",
        "\n",
        "        return img_tensor.float(), main_label, sub_label\n",
        "\n",
        "# Create dataset with the new class\n",
        "dataset = StreetSurfaceDataset(df, img_folder, transform=augmentations, n_aug=3)"
      ]
    },
    {
      "cell_type": "code",
      "execution_count": 12,
      "metadata": {
        "id": "gO_5hi2aZjR2"
      },
      "outputs": [],
      "source": [
        "# # ---------------- Convert to tensors and create TensorDataset ----------------\n",
        "# images_tensor = torch.stack(images_list)\n",
        "# main_labels_tensor = torch.tensor(main_labels_list)\n",
        "# sub_labels_tensor = torch.tensor(sub_labels_list)\n",
        "\n",
        "# dataset = TensorDataset(images_tensor, main_labels_tensor, sub_labels_tensor)"
      ]
    },
    {
      "cell_type": "code",
      "execution_count": 13,
      "metadata": {
        "id": "HUKcNGo8ZylJ"
      },
      "outputs": [],
      "source": [
        "# ---------------- Train/Val/Test Split ----------------\n",
        "n_total = len(dataset)\n",
        "n_train = int(0.7 * n_total)\n",
        "n_val = int(0.15 * n_total)\n",
        "n_test = n_total - n_train - n_val\n",
        "train_set, val_set, test_set = random_split(dataset, [n_train, n_val, n_test])\n",
        "\n",
        "train_loader = DataLoader(train_set, batch_size=16, shuffle=True)\n",
        "val_loader = DataLoader(val_set, batch_size=16)\n",
        "test_loader = DataLoader(test_set, batch_size=16)"
      ]
    },
    {
      "cell_type": "code",
      "execution_count": 14,
      "metadata": {
        "colab": {
          "base_uri": "https://localhost:8080/"
        },
        "id": "AG5K47f6Z2BG",
        "outputId": "314a9a72-63ec-4361-8020-177fedcbbfca"
      },
      "outputs": [
        {
          "output_type": "stream",
          "name": "stdout",
          "text": [
            "Downloading: \"https://download.pytorch.org/models/resnet18-f37072fd.pth\" to /root/.cache/torch/hub/checkpoints/resnet18-f37072fd.pth\n"
          ]
        },
        {
          "output_type": "stream",
          "name": "stderr",
          "text": [
            "100%|██████████| 44.7M/44.7M [00:00<00:00, 191MB/s]\n"
          ]
        }
      ],
      "source": [
        "# ---------------- Model ----------------\n",
        "backbone = models.resnet18(weights=models.ResNet18_Weights.DEFAULT)\n",
        "in_feat = backbone.fc.in_features\n",
        "backbone.fc = nn.Identity()\n",
        "backbone = backbone.to(device)\n",
        "\n",
        "fc_main = nn.Linear(in_feat, len(SURFACE_TYPE_MAP)).to(device)\n",
        "fc_sub = nn.Linear(in_feat, len(SURFACE_QUALITY_MAP)).to(device)\n",
        "\n",
        "optimizer = optim.Adam(\n",
        "    list(backbone.parameters()) + list(fc_main.parameters()) + list(fc_sub.parameters()),\n",
        "    lr=1e-4\n",
        ")\n",
        "criterion = nn.CrossEntropyLoss()\n",
        "scheduler = optim.lr_scheduler.ReduceLROnPlateau(optimizer, mode='min', factor=0.5, patience=5)"
      ]
    },
    {
      "cell_type": "code",
      "execution_count": 15,
      "metadata": {
        "id": "pUbO8vxbZ4K4",
        "colab": {
          "base_uri": "https://localhost:8080/",
          "height": 273
        },
        "outputId": "f708cfa2-d240-44db-cddb-8098d3f45e04"
      },
      "outputs": [
        {
          "output_type": "stream",
          "name": "stdout",
          "text": [
            "Epoch 1 | Train Loss: 2.9108 | Val Loss: 2.9870 | Val Main Acc: 0.4014 | Val Sub Acc: 0.3437 | Val Joint Acc: 0.1763\n",
            "✅ Model checkpoint saved based on joint accuracy.\n",
            "Epoch 2 | Train Loss: 2.8990 | Val Loss: 3.3605 | Val Main Acc: 0.2264 | Val Sub Acc: 0.2964 | Val Joint Acc: 0.0618\n"
          ]
        },
        {
          "output_type": "error",
          "ename": "KeyboardInterrupt",
          "evalue": "",
          "traceback": [
            "\u001b[0;31m---------------------------------------------------------------------------\u001b[0m",
            "\u001b[0;31mKeyboardInterrupt\u001b[0m                         Traceback (most recent call last)",
            "\u001b[0;32m/tmp/ipython-input-3969874992.py\u001b[0m in \u001b[0;36m<cell line: 0>\u001b[0;34m()\u001b[0m\n\u001b[1;32m     45\u001b[0m             \u001b[0mout_sub\u001b[0m \u001b[0;34m=\u001b[0m \u001b[0mfc_sub\u001b[0m\u001b[0;34m(\u001b[0m\u001b[0mfeatures\u001b[0m\u001b[0;34m)\u001b[0m\u001b[0;34m\u001b[0m\u001b[0;34m\u001b[0m\u001b[0m\n\u001b[1;32m     46\u001b[0m             \u001b[0mloss\u001b[0m \u001b[0;34m=\u001b[0m \u001b[0mcriterion\u001b[0m\u001b[0;34m(\u001b[0m\u001b[0mout_main\u001b[0m\u001b[0;34m,\u001b[0m \u001b[0mmain_labels\u001b[0m\u001b[0;34m)\u001b[0m \u001b[0;34m+\u001b[0m \u001b[0mcriterion\u001b[0m\u001b[0;34m(\u001b[0m\u001b[0mout_sub\u001b[0m\u001b[0;34m,\u001b[0m \u001b[0msub_labels\u001b[0m\u001b[0;34m)\u001b[0m\u001b[0;34m\u001b[0m\u001b[0;34m\u001b[0m\u001b[0m\n\u001b[0;32m---> 47\u001b[0;31m             \u001b[0mval_loss\u001b[0m \u001b[0;34m+=\u001b[0m \u001b[0mloss\u001b[0m\u001b[0;34m.\u001b[0m\u001b[0mitem\u001b[0m\u001b[0;34m(\u001b[0m\u001b[0;34m)\u001b[0m\u001b[0;34m\u001b[0m\u001b[0;34m\u001b[0m\u001b[0m\n\u001b[0m\u001b[1;32m     48\u001b[0m \u001b[0;34m\u001b[0m\u001b[0m\n\u001b[1;32m     49\u001b[0m             \u001b[0m_\u001b[0m\u001b[0;34m,\u001b[0m \u001b[0mpredicted_main\u001b[0m \u001b[0;34m=\u001b[0m \u001b[0mtorch\u001b[0m\u001b[0;34m.\u001b[0m\u001b[0mmax\u001b[0m\u001b[0;34m(\u001b[0m\u001b[0mout_main\u001b[0m\u001b[0;34m.\u001b[0m\u001b[0mdata\u001b[0m\u001b[0;34m,\u001b[0m \u001b[0;36m1\u001b[0m\u001b[0;34m)\u001b[0m\u001b[0;34m\u001b[0m\u001b[0;34m\u001b[0m\u001b[0m\n",
            "\u001b[0;31mKeyboardInterrupt\u001b[0m: "
          ]
        }
      ],
      "source": [
        "# ---------------- Training Loop (1 epoch) ----------------\n",
        "best_val_loss = float('inf')\n",
        "epochs = 15\n",
        "\n",
        "def calculate_accuracy(outputs, labels):\n",
        "    _, predicted = torch.max(outputs.data, 1)\n",
        "    correct = (predicted == labels).sum().item()\n",
        "    total = labels.size(0)\n",
        "    return correct / total\n",
        "\n",
        "best_val_joint_acc = 0.0\n",
        "\n",
        "for epoch in range(epochs):\n",
        "    backbone.train(); fc_main.train(); fc_sub.train()\n",
        "    train_loss = 0.0\n",
        "    for images, main_labels, sub_labels in train_loader:\n",
        "        images = images.to(device).float()\n",
        "        main_labels = main_labels.to(device)\n",
        "        sub_labels = sub_labels.to(device)\n",
        "\n",
        "        optimizer.zero_grad()\n",
        "        features = backbone(images)\n",
        "        out_main = fc_main(features)\n",
        "        out_sub = fc_sub(features)\n",
        "        loss = criterion(out_main, main_labels) + criterion(out_sub, sub_labels)\n",
        "        loss.backward()\n",
        "        optimizer.step()\n",
        "        train_loss += loss.item()\n",
        "\n",
        "    # Validation\n",
        "    backbone.eval(); fc_main.eval(); fc_sub.eval()\n",
        "    val_loss = 0.0\n",
        "    correct_main = 0\n",
        "    correct_sub = 0\n",
        "    correct_joint = 0\n",
        "    total_samples = 0\n",
        "\n",
        "    with torch.no_grad():\n",
        "        for images, main_labels, sub_labels in val_loader:\n",
        "            images = images.to(device).float()\n",
        "            main_labels = main_labels.to(device)\n",
        "            sub_labels = sub_labels.to(device)\n",
        "            features = backbone(images)\n",
        "            out_main = fc_main(features)\n",
        "            out_sub = fc_sub(features)\n",
        "            loss = criterion(out_main, main_labels) + criterion(out_sub, sub_labels)\n",
        "            val_loss += loss.item()\n",
        "\n",
        "            _, predicted_main = torch.max(out_main.data, 1)\n",
        "            _, predicted_sub = torch.max(out_sub.data, 1)\n",
        "\n",
        "            correct_main += (predicted_main == main_labels).sum().item()\n",
        "            correct_sub += (predicted_sub == sub_labels).sum().item()\n",
        "            correct_joint += ((predicted_main == main_labels) & (predicted_sub == sub_labels)).sum().item()\n",
        "            total_samples += main_labels.size(0)\n",
        "\n",
        "\n",
        "    avg_train_loss = train_loss / len(train_loader)\n",
        "    avg_val_loss = val_loss / len(val_loader)\n",
        "    val_main_acc = correct_main / total_samples\n",
        "    val_sub_acc = correct_sub / total_samples\n",
        "    val_joint_acc = correct_joint / total_samples\n",
        "\n",
        "    print(f\"Epoch {epoch+1} | Train Loss: {avg_train_loss:.4f} | Val Loss: {avg_val_loss:.4f} | Val Main Acc: {val_main_acc:.4f} | Val Sub Acc: {val_sub_acc:.4f} | Val Joint Acc: {val_joint_acc:.4f}\")\n",
        "\n",
        "    scheduler.step(avg_val_loss)\n",
        "\n",
        "    # Save model based on joint accuracy\n",
        "    if val_joint_acc > best_val_joint_acc:\n",
        "        best_val_joint_acc = val_joint_acc\n",
        "        torch.save({\n",
        "            'backbone': backbone.state_dict(),\n",
        "            'fc_main': fc_main.state_dict(),\n",
        "            'fc_sub': fc_sub.state_dict(),\n",
        "            'optimizer': optimizer.state_dict(),\n",
        "            'epoch': epoch,\n",
        "            'best_val_joint_acc': best_val_joint_acc\n",
        "        }, \"best_model.pth\")\n",
        "        print(\"✅ Model checkpoint saved based on joint accuracy.\")"
      ]
    },
    {
      "cell_type": "code",
      "execution_count": null,
      "metadata": {
        "id": "yfp5tXDBZ-SA"
      },
      "outputs": [],
      "source": [
        "# ---------------- Display 3 example images ----------------\n",
        "for i in range(3):\n",
        "    plt.imshow(np.transpose(images_tensor[i].numpy(), (1,2,0)))\n",
        "    plt.title(f\"Type: {main_labels_tensor[i].item()}, Quality: {sub_labels_tensor[i].item()}\")\n",
        "    plt.axis('off')\n",
        "    plt.show()"
      ]
    },
    {
      "cell_type": "code",
      "execution_count": null,
      "metadata": {
        "id": "0KWI2vgIjAJI"
      },
      "outputs": [],
      "source": [
        "IDX2TYPE = [k for k,_ in sorted(SURFACE_TYPE_MAP.items(), key=lambda kv: kv[1])]\n",
        "IDX2QUAL = [k for k,_ in sorted(SURFACE_QUALITY_MAP.items(), key=lambda kv: kv[1])]"
      ]
    },
    {
      "cell_type": "code",
      "execution_count": null,
      "metadata": {
        "colab": {
          "base_uri": "https://localhost:8080/"
        },
        "id": "pKbJrjCvjBOf",
        "outputId": "a2e708a6-8286-434a-8848-ca16ac6841cd"
      },
      "outputs": [
        {
          "data": {
            "text/plain": [
              "['asphalt', 'concrete', 'paving_stones', 'unpaved', 'sett']"
            ]
          },
          "execution_count": 20,
          "metadata": {},
          "output_type": "execute_result"
        }
      ],
      "source": [
        "IDX2TYPE"
      ]
    },
    {
      "cell_type": "code",
      "execution_count": null,
      "metadata": {
        "id": "ZWAalkOaagmU"
      },
      "outputs": [],
      "source": []
    },
    {
      "cell_type": "code",
      "execution_count": null,
      "metadata": {
        "colab": {
          "background_save": true,
          "base_uri": "https://localhost:8080/"
        },
        "id": "Ns0jLPe6gtLt",
        "outputId": "283fc3e6-d5d6-429a-b2fe-3c82ba6779bc"
      },
      "outputs": [
        {
          "name": "stdout",
          "output_type": "stream",
          "text": [
            "Epoch 1 | TrainLoss 0.0375 | Val Acc(main) 0.996 | Val Acc(sub) 0.984 | Val MacroF1(main) 0.995 | Val MacroF1(sub) 0.986 | Val JointAcc 0.982\n",
            "✅ Saved checkpoint (best joint accuracy).\n",
            "Epoch 2 | TrainLoss 0.0349 | Val Acc(main) 0.997 | Val Acc(sub) 0.980 | Val MacroF1(main) 0.996 | Val MacroF1(sub) 0.981 | Val JointAcc 0.978\n",
            "Epoch 3 | TrainLoss 0.0330 | Val Acc(main) 0.997 | Val Acc(sub) 0.980 | Val MacroF1(main) 0.996 | Val MacroF1(sub) 0.980 | Val JointAcc 0.978\n",
            "Epoch 4 | TrainLoss 0.0308 | Val Acc(main) 0.998 | Val Acc(sub) 0.983 | Val MacroF1(main) 0.997 | Val MacroF1(sub) 0.984 | Val JointAcc 0.982\n",
            "Epoch 5 | TrainLoss 0.0312 | Val Acc(main) 0.994 | Val Acc(sub) 0.970 | Val MacroF1(main) 0.993 | Val MacroF1(sub) 0.975 | Val JointAcc 0.966\n",
            "Epoch 6 | TrainLoss 0.0317 | Val Acc(main) 0.996 | Val Acc(sub) 0.973 | Val MacroF1(main) 0.995 | Val MacroF1(sub) 0.977 | Val JointAcc 0.970\n",
            "Epoch 7 | TrainLoss 0.0336 | Val Acc(main) 0.999 | Val Acc(sub) 0.983 | Val MacroF1(main) 0.998 | Val MacroF1(sub) 0.982 | Val JointAcc 0.982\n",
            "Epoch 8 | TrainLoss 0.0067 | Val Acc(main) 0.998 | Val Acc(sub) 0.987 | Val MacroF1(main) 0.997 | Val MacroF1(sub) 0.989 | Val JointAcc 0.986\n",
            "✅ Saved checkpoint (best joint accuracy).\n",
            "Epoch 9 | TrainLoss 0.0027 | Val Acc(main) 0.998 | Val Acc(sub) 0.985 | Val MacroF1(main) 0.997 | Val MacroF1(sub) 0.987 | Val JointAcc 0.984\n",
            "Epoch 10 | TrainLoss 0.0052 | Val Acc(main) 0.998 | Val Acc(sub) 0.984 | Val MacroF1(main) 0.997 | Val MacroF1(sub) 0.985 | Val JointAcc 0.983\n",
            "Epoch 11 | TrainLoss 0.0090 | Val Acc(main) 0.998 | Val Acc(sub) 0.986 | Val MacroF1(main) 0.997 | Val MacroF1(sub) 0.986 | Val JointAcc 0.985\n",
            "Epoch 12 | TrainLoss 0.0032 | Val Acc(main) 0.998 | Val Acc(sub) 0.984 | Val MacroF1(main) 0.997 | Val MacroF1(sub) 0.985 | Val JointAcc 0.983\n",
            "Epoch 13 | TrainLoss 0.0062 | Val Acc(main) 0.998 | Val Acc(sub) 0.985 | Val MacroF1(main) 0.997 | Val MacroF1(sub) 0.986 | Val JointAcc 0.984\n"
          ]
        }
      ],
      "source": []
    },
    {
      "cell_type": "code",
      "metadata": {
        "colab": {
          "base_uri": "https://localhost:8080/"
        },
        "id": "09ccceb5",
        "outputId": "2e17965e-718f-4a1e-d556-51505a9c740d"
      },
      "source": [
        "checkpoint = torch.load(\"best_model.pth\")\n",
        "\n",
        "backbone = models.resnet18(weights=models.ResNet18_Weights.DEFAULT)\n",
        "in_feat = backbone.fc.in_features\n",
        "backbone.fc = nn.Identity()\n",
        "backbone = backbone.to(device)\n",
        "\n",
        "fc_main = nn.Linear(in_feat, len(SURFACE_TYPE_MAP)).to(device)\n",
        "fc_sub = nn.Linear(in_feat, len(SURFACE_QUALITY_MAP)).to(device)\n",
        "\n",
        "backbone.load_state_dict(checkpoint['backbone'])\n",
        "fc_main.load_state_dict(checkpoint['fc_main'])\n",
        "fc_sub.load_state_dict(checkpoint['fc_sub'])"
      ],
      "execution_count": 21,
      "outputs": [
        {
          "output_type": "execute_result",
          "data": {
            "text/plain": [
              "<All keys matched successfully>"
            ]
          },
          "metadata": {},
          "execution_count": 21
        }
      ]
    },
    {
      "cell_type": "code",
      "metadata": {
        "id": "0f02cdb3"
      },
      "source": [
        "backbone.eval()\n",
        "fc_main.eval()\n",
        "fc_sub.eval()\n",
        "\n",
        "all_main_labels = []\n",
        "all_sub_labels = []\n",
        "all_main_preds = []\n",
        "all_sub_preds = []\n",
        "\n",
        "with torch.no_grad():\n",
        "    for images, main_labels, sub_labels in test_loader:\n",
        "        images = images.to(device).float()\n",
        "        main_labels = main_labels.to(device)\n",
        "        sub_labels = sub_labels.to(device)\n",
        "\n",
        "        features = backbone(images)\n",
        "        out_main = fc_main(features)\n",
        "        out_sub = fc_sub(features)\n",
        "\n",
        "        _, predicted_main = torch.max(out_main.data, 1)\n",
        "        _, predicted_sub = torch.max(out_sub.data, 1)\n",
        "\n",
        "        all_main_labels.extend(main_labels.cpu().numpy())\n",
        "        all_sub_labels.extend(sub_labels.cpu().numpy())\n",
        "        all_main_preds.extend(predicted_main.cpu().numpy())\n",
        "        all_sub_preds.extend(predicted_sub.cpu().numpy())\n",
        "\n",
        "all_main_labels = np.array(all_main_labels)\n",
        "all_sub_labels = np.array(all_sub_labels)\n",
        "all_main_preds = np.array(all_main_preds)\n",
        "all_sub_preds = np.array(all_sub_preds)"
      ],
      "execution_count": 22,
      "outputs": []
    },
    {
      "cell_type": "code",
      "metadata": {
        "colab": {
          "base_uri": "https://localhost:8080/",
          "height": 253
        },
        "id": "7290e435",
        "outputId": "350d76aa-780c-4ebc-9673-784d9e7bf822"
      },
      "source": [
        "from sklearn.metrics import confusion_matrix\n",
        "\n",
        "main_confusion_matrix = confusion_matrix(all_main_labels, all_main_preds)\n",
        "sub_confusion_matrix = confusion_matrix(all_sub_labels, all_sub_preds)\n",
        "\n",
        "print(\"Main Task Confusion Matrix:\")\n",
        "display(main_confusion_matrix)\n",
        "print(\"\\nSub Task Confusion Matrix:\")\n",
        "display(sub_confusion_matrix)"
      ],
      "execution_count": 23,
      "outputs": [
        {
          "output_type": "stream",
          "name": "stdout",
          "text": [
            "Main Task Confusion Matrix:\n"
          ]
        },
        {
          "output_type": "display_data",
          "data": {
            "text/plain": [
              "array([[2290,    0,    0,    0,    0],\n",
              "       [ 597,    0,    0,    0,    0],\n",
              "       [1237,    0,    0,    0,    0],\n",
              "       [ 611,    0,    0,    0,    0],\n",
              "       [ 739,    0,    0,    0,    0]])"
            ]
          },
          "metadata": {}
        },
        {
          "output_type": "stream",
          "name": "stdout",
          "text": [
            "\n",
            "Sub Task Confusion Matrix:\n"
          ]
        },
        {
          "output_type": "display_data",
          "data": {
            "text/plain": [
              "array([[   0, 1056,    0,    0,    0],\n",
              "       [   0, 1993,    0,    0,    0],\n",
              "       [   0, 1461,    0,    0,    0],\n",
              "       [   0,  793,    0,    0,    0],\n",
              "       [   0,  171,    0,    0,    0]])"
            ]
          },
          "metadata": {}
        }
      ]
    },
    {
      "cell_type": "code",
      "metadata": {
        "colab": {
          "base_uri": "https://localhost:8080/",
          "height": 1000
        },
        "id": "014ce46f",
        "outputId": "673fd2f6-212c-4558-8044-4e1eaf031105"
      },
      "source": [
        "import seaborn as sns\n",
        "import matplotlib.pyplot as plt\n",
        "\n",
        "plt.figure(figsize=(8, 6))\n",
        "sns.heatmap(main_confusion_matrix, annot=True, fmt='d', cmap='Blues', xticklabels=IDX2TYPE, yticklabels=IDX2TYPE)\n",
        "plt.title(\"Main Task Confusion Matrix\")\n",
        "plt.xlabel(\"Predicted Label\")\n",
        "plt.ylabel(\"True Label\")\n",
        "plt.show()\n",
        "\n",
        "plt.figure(figsize=(8, 6))\n",
        "sns.heatmap(sub_confusion_matrix, annot=True, fmt='d', cmap='Blues', xticklabels=IDX2QUAL, yticklabels=IDX2QUAL)\n",
        "plt.title(\"Sub Task Confusion Matrix\")\n",
        "plt.xlabel(\"Predicted Label\")\n",
        "plt.ylabel(\"True Label\")\n",
        "plt.show()"
      ],
      "execution_count": 24,
      "outputs": [
        {
          "output_type": "display_data",
          "data": {
            "text/plain": [
              "<Figure size 800x600 with 2 Axes>"
            ],
            "image/png": "[encoded data removed]"
          },
          "metadata": {}
        },
        {
          "output_type": "display_data",
          "data": {
            "text/plain": [
              "<Figure size 800x600 with 2 Axes>"
            ],
            "image/png": "[encoded data removed]"
          },
          "metadata": {}
        }
      ]
    }
  ],
  "metadata": {
    "accelerator": "GPU",
    "colab": {
      "gpuType": "T4",
      "machine_shape": "hm",
      "provenance": []
    },
    "kernelspec": {
      "display_name": "Python 3",
      "name": "python3"
    },
    "language_info": {
      "name": "python"
    }
  },
  "nbformat": 4,
  "nbformat_minor": 0
}